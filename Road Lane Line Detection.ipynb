{
 "cells": [
  {
   "cell_type": "code",
   "execution_count": 1,
   "id": "90882fa1",
   "metadata": {},
   "outputs": [],
   "source": [
    "import numpy as np\n",
    "import tensorflow as tf\n",
    "from tensorflow import keras\n",
    "from tensorflow.keras.models import Sequential\n",
    "from tensorflow.keras.layers import Activation, Dense, Flatten, Conv2D, MaxPool2D\n",
    "from tensorflow.keras.optimizers import Adam\n",
    "from tensorflow.keras.metrics import categorical_crossentropy\n",
    "from tensorflow.keras.preprocessing.image import ImageDataGenerator\n",
    "from sklearn.metrics import confusion_matrix\n",
    "import itertools\n",
    "import os\n",
    "import shutil\n",
    "import random\n",
    "import glob\n",
    "import matplotlib.pyplot as plt\n",
    "\n",
    "%matplotlib inline"
   ]
  },
  {
   "cell_type": "code",
   "execution_count": 2,
   "id": "9fc0250a",
   "metadata": {},
   "outputs": [
    {
     "data": {
      "text/plain": [
       "'C:\\\\Users\\\\Nusu Queen\\\\Desktop\\\\Data Science Project'"
      ]
     },
     "execution_count": 2,
     "metadata": {},
     "output_type": "execute_result"
    }
   ],
   "source": [
    "os.getcwd()"
   ]
  },
  {
   "cell_type": "code",
   "execution_count": 3,
   "id": "744ae614",
   "metadata": {},
   "outputs": [],
   "source": [
    "train_path = 'C:/Users/Nusu Queen/Desktop/Data Science Project/TopperWorld/Detection of Road lane line/Data/data_road_224/training'\n",
    "test_path = 'C:/Users/Nusu Queen/Desktop/Data Science Project/TopperWorld/Detection of Road lane line/Data/data_road_224/testing'"
   ]
  },
  {
   "cell_type": "code",
   "execution_count": 4,
   "id": "e4d2529d",
   "metadata": {},
   "outputs": [],
   "source": [
    "IMG_DIM = 32\n",
    "CLASSES = sorted(['Class1','Class2'])"
   ]
  },
  {
   "cell_type": "code",
   "execution_count": 5,
   "id": "39743e24",
   "metadata": {},
   "outputs": [
    {
     "name": "stdout",
     "output_type": "stream",
     "text": [
      "Found 289 images belonging to 2 classes.\n",
      "Found 57 images belonging to 2 classes.\n",
      "Found 290 images belonging to 2 classes.\n"
     ]
    }
   ],
   "source": [
    "train_gen = ImageDataGenerator().flow_from_directory(\n",
    "    directory=train_path, \n",
    "    target_size = (IMG_DIM,IMG_DIM), \n",
    "    classes=CLASSES)\n",
    "\n",
    "val_gen = ImageDataGenerator( validation_split=0.2).flow_from_directory(\n",
    "    directory=train_path, \n",
    "    target_size = (IMG_DIM,IMG_DIM), \n",
    "    classes=CLASSES, \n",
    "    subset='validation')\n",
    "\n",
    "test_gen = ImageDataGenerator().flow_from_directory(\n",
    "    directory=test_path, \n",
    "    target_size = (IMG_DIM,IMG_DIM), \n",
    "    classes=CLASSES, \n",
    "    shuffle=False)"
   ]
  },
  {
   "cell_type": "code",
   "execution_count": 6,
   "id": "c164dd2c",
   "metadata": {},
   "outputs": [
    {
     "data": {
      "text/plain": [
       "{'Class1': 0, 'Class2': 1}"
      ]
     },
     "execution_count": 6,
     "metadata": {},
     "output_type": "execute_result"
    }
   ],
   "source": [
    "train_gen.class_indices"
   ]
  },
  {
   "cell_type": "code",
   "execution_count": 7,
   "id": "df53d671",
   "metadata": {},
   "outputs": [],
   "source": [
    "import tensorflow as tf\n",
    "from tensorflow.keras.models import Sequential\n",
    "from tensorflow.keras.layers import Conv2D, AveragePooling2D, Flatten, Dense"
   ]
  },
  {
   "cell_type": "code",
   "execution_count": 8,
   "id": "702ecdc1",
   "metadata": {},
   "outputs": [],
   "source": [
    "def LeNet(input_shape, num_classes):\n",
    "    model = Sequential()\n",
    "    model.add(Conv2D(filters=6, kernel_size=(5, 5), activation='relu', input_shape=input_shape))\n",
    "    model.add(AveragePooling2D(pool_size=(2, 2)))\n",
    "    model.add(Conv2D(filters=16, kernel_size=(5, 5), activation='relu'))\n",
    "    model.add(AveragePooling2D(pool_size=(2, 2)))\n",
    "    model.add(Flatten())\n",
    "    model.add(Dense(units=120, activation='relu'))\n",
    "    model.add(Dense(units=84, activation='relu'))\n",
    "    model.add(Dense(units=num_classes, activation='softmax'))\n",
    "    return model"
   ]
  },
  {
   "cell_type": "code",
   "execution_count": 9,
   "id": "99033bd3",
   "metadata": {},
   "outputs": [
    {
     "name": "stdout",
     "output_type": "stream",
     "text": [
      "Model: \"sequential\"\n",
      "_________________________________________________________________\n",
      " Layer (type)                Output Shape              Param #   \n",
      "=================================================================\n",
      " conv2d (Conv2D)             (None, 28, 28, 6)         456       \n",
      "                                                                 \n",
      " average_pooling2d (Average  (None, 14, 14, 6)         0         \n",
      " Pooling2D)                                                      \n",
      "                                                                 \n",
      " conv2d_1 (Conv2D)           (None, 10, 10, 16)        2416      \n",
      "                                                                 \n",
      " average_pooling2d_1 (Avera  (None, 5, 5, 16)          0         \n",
      " gePooling2D)                                                    \n",
      "                                                                 \n",
      " flatten (Flatten)           (None, 400)               0         \n",
      "                                                                 \n",
      " dense (Dense)               (None, 120)               48120     \n",
      "                                                                 \n",
      " dense_1 (Dense)             (None, 84)                10164     \n",
      "                                                                 \n",
      " dense_2 (Dense)             (None, 2)                 170       \n",
      "                                                                 \n",
      "=================================================================\n",
      "Total params: 61326 (239.55 KB)\n",
      "Trainable params: 61326 (239.55 KB)\n",
      "Non-trainable params: 0 (0.00 Byte)\n",
      "_________________________________________________________________\n"
     ]
    }
   ],
   "source": [
    "# Define the input shape and number of classes\n",
    "input_shape = (IMG_DIM, IMG_DIM, 3)\n",
    "num_classes = 2\n",
    "\n",
    "# Create the LeNet model\n",
    "model = LeNet(input_shape, num_classes)\n",
    "\n",
    "# Print the model summary\n",
    "model.summary()\n",
    "MODEL_PATH = 'saved-models/LeNet'"
   ]
  },
  {
   "cell_type": "code",
   "execution_count": 10,
   "id": "f085c55c",
   "metadata": {},
   "outputs": [],
   "source": [
    "model.compile(loss='categorical_crossentropy', optimizer='adam', metrics=['accuracy'])"
   ]
  },
  {
   "cell_type": "code",
   "execution_count": 11,
   "id": "223b25c2",
   "metadata": {},
   "outputs": [
    {
     "name": "stdout",
     "output_type": "stream",
     "text": [
      "Epoch 1/20\n",
      " 9/10 [==========================>...] - ETA: 0s - loss: 3.2834 - accuracy: 0.5208\n",
      "Epoch 1: val_loss improved from inf to 1.26553, saving model to saved-models\\LeNet\n",
      "10/10 [==============================] - 4s 320ms/step - loss: 3.2789 - accuracy: 0.5190 - val_loss: 1.2655 - val_accuracy: 0.4912\n",
      "Epoch 2/20\n",
      "10/10 [==============================] - ETA: 0s - loss: 0.9559 - accuracy: 0.5813\n",
      "Epoch 2: val_loss improved from 1.26553 to 0.82327, saving model to saved-models\\LeNet\n",
      "10/10 [==============================] - 1s 128ms/step - loss: 0.9559 - accuracy: 0.5813 - val_loss: 0.8233 - val_accuracy: 0.5789\n",
      "Epoch 3/20\n",
      "10/10 [==============================] - ETA: 0s - loss: 0.7861 - accuracy: 0.5986\n",
      "Epoch 3: val_loss improved from 0.82327 to 0.60295, saving model to saved-models\\LeNet\n",
      "10/10 [==============================] - 1s 116ms/step - loss: 0.7861 - accuracy: 0.5986 - val_loss: 0.6030 - val_accuracy: 0.6491\n",
      "Epoch 4/20\n",
      "10/10 [==============================] - ETA: 0s - loss: 0.5888 - accuracy: 0.6851\n",
      "Epoch 4: val_loss improved from 0.60295 to 0.48699, saving model to saved-models\\LeNet\n",
      "10/10 [==============================] - 1s 113ms/step - loss: 0.5888 - accuracy: 0.6851 - val_loss: 0.4870 - val_accuracy: 0.7544\n",
      "Epoch 5/20\n",
      "10/10 [==============================] - ETA: 0s - loss: 0.5192 - accuracy: 0.7370\n",
      "Epoch 5: val_loss did not improve from 0.48699\n",
      "10/10 [==============================] - 2s 133ms/step - loss: 0.5192 - accuracy: 0.7370 - val_loss: 0.5493 - val_accuracy: 0.7193\n",
      "Epoch 6/20\n",
      "10/10 [==============================] - ETA: 0s - loss: 0.5347 - accuracy: 0.7266\n",
      "Epoch 6: val_loss improved from 0.48699 to 0.45435, saving model to saved-models\\LeNet\n",
      "10/10 [==============================] - 1s 124ms/step - loss: 0.5347 - accuracy: 0.7266 - val_loss: 0.4544 - val_accuracy: 0.7719\n",
      "Epoch 7/20\n",
      "10/10 [==============================] - ETA: 0s - loss: 0.4476 - accuracy: 0.7889\n",
      "Epoch 7: val_loss improved from 0.45435 to 0.39482, saving model to saved-models\\LeNet\n",
      "10/10 [==============================] - 1s 115ms/step - loss: 0.4476 - accuracy: 0.7889 - val_loss: 0.3948 - val_accuracy: 0.8421\n",
      "Epoch 8/20\n",
      "10/10 [==============================] - ETA: 0s - loss: 0.3619 - accuracy: 0.8443\n",
      "Epoch 8: val_loss improved from 0.39482 to 0.32028, saving model to saved-models\\LeNet\n",
      "10/10 [==============================] - 1s 129ms/step - loss: 0.3619 - accuracy: 0.8443 - val_loss: 0.3203 - val_accuracy: 0.8772\n",
      "Epoch 9/20\n",
      "10/10 [==============================] - ETA: 0s - loss: 0.3037 - accuracy: 0.8616\n",
      "Epoch 9: val_loss did not improve from 0.32028\n",
      "10/10 [==============================] - 1s 117ms/step - loss: 0.3037 - accuracy: 0.8616 - val_loss: 0.4154 - val_accuracy: 0.7719\n",
      "Epoch 10/20\n",
      "10/10 [==============================] - ETA: 0s - loss: 0.3158 - accuracy: 0.8754\n",
      "Epoch 10: val_loss improved from 0.32028 to 0.31852, saving model to saved-models\\LeNet\n",
      "10/10 [==============================] - 1s 119ms/step - loss: 0.3158 - accuracy: 0.8754 - val_loss: 0.3185 - val_accuracy: 0.8947\n",
      "Epoch 11/20\n",
      " 9/10 [==========================>...] - ETA: 0s - loss: 0.2644 - accuracy: 0.9132\n",
      "Epoch 11: val_loss improved from 0.31852 to 0.26487, saving model to saved-models\\LeNet\n",
      "10/10 [==============================] - 1s 117ms/step - loss: 0.2671 - accuracy: 0.9100 - val_loss: 0.2649 - val_accuracy: 0.9123\n",
      "Epoch 12/20\n",
      " 9/10 [==========================>...] - ETA: 0s - loss: 0.2534 - accuracy: 0.8854\n",
      "Epoch 12: val_loss improved from 0.26487 to 0.23888, saving model to saved-models\\LeNet\n",
      "10/10 [==============================] - 1s 112ms/step - loss: 0.2525 - accuracy: 0.8858 - val_loss: 0.2389 - val_accuracy: 0.8947\n",
      "Epoch 13/20\n",
      " 9/10 [==========================>...] - ETA: 0s - loss: 0.2067 - accuracy: 0.9340\n",
      "Epoch 13: val_loss improved from 0.23888 to 0.22250, saving model to saved-models\\LeNet\n",
      "10/10 [==============================] - 1s 128ms/step - loss: 0.2080 - accuracy: 0.9343 - val_loss: 0.2225 - val_accuracy: 0.8772\n",
      "Epoch 14/20\n",
      " 9/10 [==========================>...] - ETA: 0s - loss: 0.1701 - accuracy: 0.9375\n",
      "Epoch 14: val_loss improved from 0.22250 to 0.18289, saving model to saved-models\\LeNet\n",
      "10/10 [==============================] - 1s 119ms/step - loss: 0.1696 - accuracy: 0.9377 - val_loss: 0.1829 - val_accuracy: 0.9474\n",
      "Epoch 15/20\n",
      "10/10 [==============================] - ETA: 0s - loss: 0.1498 - accuracy: 0.9619\n",
      "Epoch 15: val_loss improved from 0.18289 to 0.12792, saving model to saved-models\\LeNet\n",
      "10/10 [==============================] - 1s 104ms/step - loss: 0.1498 - accuracy: 0.9619 - val_loss: 0.1279 - val_accuracy: 0.9649\n",
      "Epoch 16/20\n",
      "10/10 [==============================] - ETA: 0s - loss: 0.0919 - accuracy: 0.9827\n",
      "Epoch 16: val_loss improved from 0.12792 to 0.08020, saving model to saved-models\\LeNet\n",
      "10/10 [==============================] - 1s 128ms/step - loss: 0.0919 - accuracy: 0.9827 - val_loss: 0.0802 - val_accuracy: 0.9825\n",
      "Epoch 17/20\n",
      "10/10 [==============================] - ETA: 0s - loss: 0.0624 - accuracy: 0.9931\n",
      "Epoch 17: val_loss improved from 0.08020 to 0.06046, saving model to saved-models\\LeNet\n",
      "10/10 [==============================] - 1s 117ms/step - loss: 0.0624 - accuracy: 0.9931 - val_loss: 0.0605 - val_accuracy: 1.0000\n",
      "Epoch 18/20\n",
      "10/10 [==============================] - ETA: 0s - loss: 0.0401 - accuracy: 1.0000\n",
      "Epoch 18: val_loss improved from 0.06046 to 0.03768, saving model to saved-models\\LeNet\n",
      "10/10 [==============================] - 1s 110ms/step - loss: 0.0401 - accuracy: 1.0000 - val_loss: 0.0377 - val_accuracy: 1.0000\n",
      "Epoch 19/20\n",
      "10/10 [==============================] - ETA: 0s - loss: 0.0313 - accuracy: 1.0000\n",
      "Epoch 19: val_loss improved from 0.03768 to 0.02267, saving model to saved-models\\LeNet\n",
      "10/10 [==============================] - 1s 111ms/step - loss: 0.0313 - accuracy: 1.0000 - val_loss: 0.0227 - val_accuracy: 1.0000\n",
      "Epoch 20/20\n",
      "10/10 [==============================] - ETA: 0s - loss: 0.0264 - accuracy: 1.0000\n",
      "Epoch 20: val_loss improved from 0.02267 to 0.01956, saving model to saved-models\\LeNet\n",
      "10/10 [==============================] - 1s 119ms/step - loss: 0.0264 - accuracy: 1.0000 - val_loss: 0.0196 - val_accuracy: 1.0000\n"
     ]
    }
   ],
   "source": [
    "from tensorflow.keras.callbacks import ModelCheckpoint\n",
    "\n",
    "checkpoint = ModelCheckpoint(MODEL_PATH,\n",
    "                            save_weights_only=True,\n",
    "                            save_best_only=True,\n",
    "                            verbose=1)\n",
    "history = model.fit(\n",
    "    train_gen,\n",
    "    validation_data=val_gen,\n",
    "    epochs=20,\n",
    "    callbacks=[checkpoint],\n",
    ")"
   ]
  },
  {
   "cell_type": "code",
   "execution_count": 12,
   "id": "f1cd6ffd",
   "metadata": {},
   "outputs": [
    {
     "data": {
      "image/png": "[encoded data removed]",
      "text/plain": [
       "<Figure size 1600x400 with 2 Axes>"
      ]
     },
     "metadata": {},
     "output_type": "display_data"
    }
   ],
   "source": [
    "acc = history.history['accuracy']\n",
    "val_acc = history.history['val_accuracy']\n",
    "loss = history.history['loss']\n",
    "val_loss = history.history['val_loss']\n",
    "epochs = range(1, len(loss) + 1)\n",
    "\n",
    "plt.figure(figsize=(16, 4))\n",
    "\n",
    "plt.subplot(1, 2, 1)\n",
    "plt.plot(epochs, acc, label='Training Accuracy')\n",
    "plt.plot(epochs, val_acc, label='Validation Accuracy')\n",
    "plt.ylabel('Accuracy')\n",
    "plt.xlabel('Epoch')\n",
    "plt.legend(loc='lower right')\n",
    "plt.title('Training and Validation Accuracy')\n",
    "\n",
    "plt.subplot(1, 2, 2)\n",
    "plt.plot(epochs, loss, label='Training Loss')\n",
    "plt.plot(epochs, val_loss, label='Validation Loss')\n",
    "plt.ylabel('Loss')\n",
    "plt.xlabel('Epoch')\n",
    "plt.legend(loc='upper right')\n",
    "plt.title('Training and Validation Loss')\n",
    "plt.show()"
   ]
  },
  {
   "cell_type": "code",
   "execution_count": 13,
   "id": "e8d97a33",
   "metadata": {},
   "outputs": [
    {
     "name": "stdout",
     "output_type": "stream",
     "text": [
      "10/10 [==============================] - 6s 565ms/step - loss: 1.6728 - accuracy: 0.5276\n",
      "Test loss: 1.6728485822677612\n",
      "Test accuracy: 0.5275862216949463\n"
     ]
    }
   ],
   "source": [
    "score = model.evaluate(test_gen)\n",
    "print('Test loss:', score[0])\n",
    "print('Test accuracy:', score[1])\n"
   ]
  },
  {
   "cell_type": "code",
   "execution_count": 14,
   "id": "fe5fb72e",
   "metadata": {},
   "outputs": [
    {
     "name": "stdout",
     "output_type": "stream",
     "text": [
      "10/10 [==============================] - 1s 79ms/step - loss: 0.0181 - accuracy: 1.0000\n",
      "Train loss: 0.018089525401592255\n",
      "Train accuracy: 1.0\n"
     ]
    }
   ],
   "source": [
    "score = model.evaluate(train_gen)\n",
    "print('Train loss:', score[0])\n",
    "print('Train accuracy:', score[1])"
   ]
  },
  {
   "cell_type": "code",
   "execution_count": 15,
   "id": "5168ed9d",
   "metadata": {},
   "outputs": [
    {
     "name": "stdout",
     "output_type": "stream",
     "text": [
      "10/10 [==============================] - 4s 349ms/step\n"
     ]
    },
    {
     "data": {
      "text/plain": [
       "array([0, 0, 0, 1, 1, 1, 0, 0, 1, 1, 0, 0, 0, 1, 1, 0, 1, 1, 1, 1, 1, 1,\n",
       "       1, 0, 0, 1, 1, 1, 1, 0, 0, 0, 0, 0, 1, 1, 0, 1, 0, 1, 1, 0, 1, 0,\n",
       "       0, 0, 0, 0, 0, 0, 0, 1, 1, 1, 1, 0, 1, 1, 0, 1, 0, 0, 0, 0, 1, 1,\n",
       "       0, 0, 0, 0, 1, 1, 0, 0, 1, 0, 0, 0, 0, 0, 0, 1, 1, 1, 0, 0, 1, 0,\n",
       "       0, 0, 0, 0, 0, 1, 1, 0, 0, 1, 0, 1, 1, 0, 1, 1, 1, 1, 0, 1, 0, 0,\n",
       "       0, 1, 0, 0, 0, 1, 0, 0, 0, 1, 1, 0, 0, 0, 0, 0, 0, 0, 1, 1, 0, 1,\n",
       "       0, 0, 0, 0, 0, 0, 0, 0, 0, 1, 0, 1, 0, 0, 0, 0, 0, 0, 1, 1, 1, 0,\n",
       "       0, 1, 0, 0, 1, 1, 0, 0, 1, 0, 0, 0, 0, 0, 0, 0, 0, 0, 1, 1, 1, 1,\n",
       "       1, 0, 1, 0, 0, 1, 0, 0, 0, 1, 0, 0, 0, 1, 1, 1, 0, 0, 1, 1, 1, 0,\n",
       "       1, 1, 0, 0, 0, 0, 0, 0, 0, 1, 0, 1, 0, 0, 0, 0, 0, 0, 1, 1, 0, 0,\n",
       "       0, 0, 0, 0, 0, 1, 1, 1, 1, 0, 0, 0, 0, 0, 0, 1, 1, 1, 1, 1, 1, 1,\n",
       "       1, 1, 1, 0, 0, 1, 1, 1, 1, 1, 1, 1, 0, 0, 0, 0, 1, 1, 1, 1, 1, 0,\n",
       "       0, 0, 0, 1, 1, 0, 0, 0, 1, 0, 1, 0, 0, 0, 0, 0, 1, 1, 0, 1, 0, 0,\n",
       "       1, 0, 1, 1], dtype=int64)"
      ]
     },
     "execution_count": 15,
     "metadata": {},
     "output_type": "execute_result"
    }
   ],
   "source": [
    "predict=model.predict(test_gen)\n",
    "# predict the class label\n",
    "y_classes = predict.argmax(axis=-1)\n",
    "y_classes"
   ]
  },
  {
   "cell_type": "code",
   "execution_count": 16,
   "id": "571e9471",
   "metadata": {},
   "outputs": [],
   "source": [
    "# np.round(predictions)"
   ]
  },
  {
   "cell_type": "code",
   "execution_count": 17,
   "id": "807a7ee2",
   "metadata": {},
   "outputs": [],
   "source": [
    "cm = confusion_matrix(y_true=test_gen.classes, y_pred=np.argmax(predict, axis=-1))"
   ]
  },
  {
   "cell_type": "code",
   "execution_count": 18,
   "id": "d7d1b64f",
   "metadata": {},
   "outputs": [
    {
     "data": {
      "text/plain": [
       "(2.5, -0.5)"
      ]
     },
     "execution_count": 18,
     "metadata": {},
     "output_type": "execute_result"
    },
    {
     "data": {
      "image/png": "[encoded data removed]",
      "text/plain": [
       "<Figure size 640x480 with 2 Axes>"
      ]
     },
     "metadata": {},
     "output_type": "display_data"
    }
   ],
   "source": [
    "import seaborn as sn\n",
    "ax= plt.subplot()\n",
    "sn.heatmap(cm, annot=True, fmt='g', ax=ax);\n",
    "\n",
    "ax.set_xlabel('Predicted labels');ax.set_ylabel('True labels'); \n",
    "ax.set_title('Confusion Matrix'); \n",
    "ax.xaxis.set_ticklabels(['Class 1', 'Class 2']);ax.yaxis.set_ticklabels(['Class 1', 'class 2']);\n",
    "bottom, top = ax.get_ylim()\n",
    "ax.set_ylim(bottom + 0.5, top - 0.5)"
   ]
  },
  {
   "cell_type": "code",
   "execution_count": 19,
   "id": "95786771",
   "metadata": {},
   "outputs": [],
   "source": [
    "from sklearn.metrics import accuracy_score\n",
    "from sklearn.metrics import classification_report\n",
    "from sklearn.metrics import roc_auc_score \n",
    "from sklearn.metrics import mean_squared_error"
   ]
  },
  {
   "cell_type": "code",
   "execution_count": 20,
   "id": "7a05839e",
   "metadata": {},
   "outputs": [
    {
     "name": "stdout",
     "output_type": "stream",
     "text": [
      "              precision    recall  f1-score   support\n",
      "\n",
      "           0       0.55      0.60      0.58       155\n",
      "           1       0.49      0.44      0.47       135\n",
      "\n",
      "    accuracy                           0.53       290\n",
      "   macro avg       0.52      0.52      0.52       290\n",
      "weighted avg       0.52      0.53      0.53       290\n",
      "\n"
     ]
    }
   ],
   "source": [
    "print(classification_report(test_gen.classes, y_classes))"
   ]
  },
  {
   "cell_type": "code",
   "execution_count": 21,
   "id": "12169687",
   "metadata": {},
   "outputs": [
    {
     "name": "stdout",
     "output_type": "stream",
     "text": [
      "0.5222222222222221\n"
     ]
    }
   ],
   "source": [
    "roc_auc = roc_auc_score(test_gen.classes, np.argmax(predict, axis=-1))\n",
    "\n",
    "print(roc_auc)"
   ]
  },
  {
   "cell_type": "code",
   "execution_count": 22,
   "id": "b62a58d1",
   "metadata": {},
   "outputs": [
    {
     "name": "stdout",
     "output_type": "stream",
     "text": [
      "0.6873236450926509\n"
     ]
    }
   ],
   "source": [
    "mse = mean_squared_error(test_gen.classes, np.argmax(predict, axis=-1))\n",
    "rmse = np.sqrt(mse)\n",
    "print(rmse)"
   ]
  },
  {
   "cell_type": "code",
   "execution_count": 23,
   "id": "174089d3",
   "metadata": {},
   "outputs": [
    {
     "name": "stdout",
     "output_type": "stream",
     "text": [
      "0.5275862068965518\n"
     ]
    }
   ],
   "source": [
    "print(accuracy_score(test_gen.classes, np.argmax(predict, axis=-1)))"
   ]
  },
  {
   "cell_type": "code",
   "execution_count": null,
   "id": "6843e426",
   "metadata": {},
   "outputs": [],
   "source": []
  }
 ],
 "metadata": {
  "kernelspec": {
   "display_name": "Python 3 (ipykernel)",
   "language": "python",
   "name": "python3"
  },
  "language_info": {
   "codemirror_mode": {
    "name": "ipython",
    "version": 3
   },
   "file_extension": ".py",
   "mimetype": "text/x-python",
   "name": "python",
   "nbconvert_exporter": "python",
   "pygments_lexer": "ipython3",
   "version": "3.10.9"
  }
 },
 "nbformat": 4,
 "nbformat_minor": 5
}
